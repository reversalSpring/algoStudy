{
 "cells": [
  {
   "cell_type": "markdown",
   "metadata": {},
   "source": [
    "# 5장 리스트, 딕셔너리\n",
    "\n",
    "## (1) 리스트(list)"
   ]
  },
  {
   "cell_type": "markdown",
   "metadata": {},
   "source": [
    "### 1. 선언"
   ]
  },
  {
   "cell_type": "code",
   "execution_count": 1,
   "metadata": {},
   "outputs": [
    {
     "name": "stdout",
     "output_type": "stream",
     "text": [
      "<class 'list'>\n",
      "<class 'list'>\n",
      "<class 'list'>\n"
     ]
    }
   ],
   "source": [
    "a = list()\n",
    "b = []\n",
    "c = [1, '2', 3.33, 'four', b'five']\n",
    "\n",
    "print(type(a))\n",
    "print(type(b))\n",
    "print(type(c))"
   ]
  },
  {
   "cell_type": "markdown",
   "metadata": {},
   "source": [
    "### 2. 요소 추가 (append, insert, extend)"
   ]
  },
  {
   "cell_type": "code",
   "execution_count": 2,
   "metadata": {},
   "outputs": [
    {
     "name": "stdout",
     "output_type": "stream",
     "text": [
      "[3]\n",
      "[0, 3, 5]\n",
      "[1, 4, 2, 3, 5]\n"
     ]
    }
   ],
   "source": [
    "# 일반적인 추가 방법 : 리스트.append(요소)\n",
    "a = []\n",
    "a.append(3)\n",
    "print(a)\n",
    "\n",
    "# 위치를 지정하여 추가 : 리스트.insert(인덱스, 요소)\n",
    "a.insert(0, 0)\n",
    "a.insert(3, 5)\n",
    "print(a)\n",
    "\n",
    "# 리스트에 새로운 리스트를 추가 : 리스트1.extend(리스트2)\n",
    "b = [1, 4]\n",
    "c = [2, 3, 5]\n",
    "b.extend(c)\n",
    "print(b)"
   ]
  },
  {
   "cell_type": "markdown",
   "metadata": {},
   "source": [
    "### 3. 요소 삭제 (del, remove())"
   ]
  },
  {
   "cell_type": "code",
   "execution_count": 3,
   "metadata": {},
   "outputs": [
    {
     "name": "stdout",
     "output_type": "stream",
     "text": [
      "[1, 2, 3, 4]\n",
      "[1, 2, 4]\n"
     ]
    }
   ],
   "source": [
    "a = [1, 2, 3, 4, 5]\n",
    "\n",
    "# 인덱스로 삭제 : del 리스트[인덱스]\n",
    "del a[4]\n",
    "print(a)\n",
    "\n",
    "# 값으로 삭제 : 리스트.remove(값)\n",
    "a.remove(3)\n",
    "print(a)"
   ]
  },
  {
   "cell_type": "markdown",
   "metadata": {},
   "source": [
    "### 4. 요소 받아오기 (인덱스 사용, pop())"
   ]
  },
  {
   "cell_type": "code",
   "execution_count": 4,
   "metadata": {},
   "outputs": [
    {
     "name": "stdout",
     "output_type": "stream",
     "text": [
      "4\n",
      "5\n",
      "1\n",
      "[2, 3, 4]\n"
     ]
    }
   ],
   "source": [
    "a = [1, 2, 3, 4, 5]\n",
    "\n",
    "# 일반적 : 리스트[인덱스]\n",
    "print(a[3])\n",
    "\n",
    "# 마지막 요소 구하기 : 리스트.pop()\n",
    "print(a.pop())\n",
    "\n",
    "# 첫번째 요소 구하기 : 리스트.pop(0) → deque를 권장\n",
    "print(a.pop(0))\n",
    "\n",
    "print(a)  # 다만, pop()은 요소를 반환함과 동시에 제거해버림"
   ]
  },
  {
   "cell_type": "markdown",
   "metadata": {},
   "source": [
    "### 5. list 탐색 (len(), in, count(), index())"
   ]
  },
  {
   "cell_type": "code",
   "execution_count": 5,
   "metadata": {},
   "outputs": [
    {
     "name": "stdout",
     "output_type": "stream",
     "text": [
      "6\n",
      "True\n",
      "a에 들어 있는 3의 개수는 :  3\n",
      "1\n"
     ]
    }
   ],
   "source": [
    "a = [1, 2, 2, 3, 3, 3]\n",
    "\n",
    "# 길이 확인\n",
    "print(len(a))\n",
    "\n",
    "# 특정 요소가 존재하는지 확인 : 요소 in list\n",
    "print(1 in a)\n",
    "\n",
    "# 요소의 총 개수 파악 : 리스트.count(요소)\n",
    "print('a에 들어 있는 3의 개수는 : ', str(a.count(3)))\n",
    "\n",
    "# 요소의 인덱스 찾기 : 리스트.index(요소)\n",
    "print(a.index(2))  # 만약 동일 요소가 여러 개일 경우, 가장 앞쪽의 인덱스를 리턴함"
   ]
  },
  {
   "cell_type": "markdown",
   "metadata": {},
   "source": [
    "### 5. 정렬, 뒤집기 (sort(), reverse(), sorted(), reversed())"
   ]
  },
  {
   "cell_type": "code",
   "execution_count": 6,
   "metadata": {},
   "outputs": [
    {
     "name": "stdout",
     "output_type": "stream",
     "text": [
      "[1, 2, 3, 4, 5]\n",
      "[5, 4, 3, 2, 1]\n",
      "[1, 2, 3, 4, 5]\n",
      "[5, 4, 3, 2, 1]\n"
     ]
    }
   ],
   "source": [
    "## 정렬\n",
    "a = [5, 2, 4, 3, 1]\n",
    "\n",
    "# 리스트.sort()\n",
    "a.sort()  # 디폴트는 오름차순\n",
    "print(a)\n",
    "a.sort(reverse=True)  # 내림차순\n",
    "print(a)\n",
    "\n",
    "# sorted() : 변환된 리스트를 리턴(원래 리스트는 그대로임)\n",
    "x = sorted(a)\n",
    "print(x)\n",
    "print(a)"
   ]
  },
  {
   "cell_type": "code",
   "execution_count": 7,
   "metadata": {},
   "outputs": [
    {
     "name": "stdout",
     "output_type": "stream",
     "text": [
      "[4, 3, 4, 2, 2]\n",
      "<list_reverseiterator object at 0x000001FB0599F2E8>\n",
      "[2, 2, 4, 3, 4]\n",
      "[4, 3, 4, 2, 2]\n"
     ]
    }
   ],
   "source": [
    "## 리스트 거꾸로 뒤집기 (오름차순/내림차순 정렬의 개념이 아님)\n",
    "b = [2, 2, 4, 3, 4]\n",
    "\n",
    "# 리스트.reverse()\n",
    "b.reverse()\n",
    "print(b)\n",
    "\n",
    "# reversed() : 변환된 리스트를 리턴(원래 리스트는 그대로임)\n",
    "y = reversed(b)\n",
    "print(y)\n",
    "print(list(y))\n",
    "print(b)"
   ]
  },
  {
   "attachments": {
    "image.png": {
     "image/png": "[encoded data removed]"
    }
   },
   "cell_type": "markdown",
   "metadata": {},
   "source": [
    "### 6. 슬라이싱\n",
    "\n",
    "책의 p144에 잘 나와 있음\n",
    "![image.png](attachment:image.png)"
   ]
  },
  {
   "cell_type": "code",
   "execution_count": 8,
   "metadata": {},
   "outputs": [
    {
     "name": "stdout",
     "output_type": "stream",
     "text": [
      "['미', '파']\n",
      "['미', '파']\n",
      "['파']\n",
      "['파']\n",
      "[]\n",
      "[]\n"
     ]
    }
   ],
   "source": [
    "a = ['도', '레', '미', '파', '솔']\n",
    "print(a[2:4])  # 리스트[i:j]일 때, i부터 (j-1)의 인덱스를 가진 요소를 반환\n",
    "print(a[2:3+1])\n",
    "\n",
    "print(a[-2:-1])\n",
    "print(a[-2:-2+1])\n",
    "\n",
    "print(a[4:0])\n",
    "print(a[-1:-3])"
   ]
  },
  {
   "cell_type": "code",
   "execution_count": 9,
   "metadata": {},
   "outputs": [
    {
     "name": "stdout",
     "output_type": "stream",
     "text": [
      "['파', '솔']\n",
      "['도', '레', '미']\n",
      "['파', '솔']\n",
      "['도', '레', '미']\n"
     ]
    }
   ],
   "source": [
    "a = ['도', '레', '미', '파', '솔']\n",
    "print(a[3:])\n",
    "print(a[:3])\n",
    "\n",
    "print(a[-2:])\n",
    "print(a[:-2])"
   ]
  },
  {
   "cell_type": "code",
   "execution_count": 10,
   "metadata": {},
   "outputs": [
    {
     "name": "stdout",
     "output_type": "stream",
     "text": [
      "['도', '미', '솔']\n",
      "['도', '레', '미', '파', '솔']\n",
      "['도', '미', '솔']\n",
      "['솔', '파', '미', '레', '도']\n"
     ]
    }
   ],
   "source": [
    "a = ['도', '레', '미', '파', '솔']\n",
    "print(a[0:5:2])\n",
    "\n",
    "print(a[:])\n",
    "print(a[::2])\n",
    "print(a[::-1])  # reverse() / reversed()와 동일한 결과"
   ]
  },
  {
   "cell_type": "markdown",
   "metadata": {},
   "source": [
    "### 7. 리스트 연산"
   ]
  },
  {
   "cell_type": "code",
   "execution_count": 11,
   "metadata": {},
   "outputs": [
    {
     "name": "stdout",
     "output_type": "stream",
     "text": [
      "[1, 2, 3, 4, 5]\n"
     ]
    }
   ],
   "source": [
    "list_a = [1, 2]\n",
    "list_b = [3, 4, 5]\n",
    "print(list_a + list_b)  # extend()"
   ]
  },
  {
   "cell_type": "code",
   "execution_count": 12,
   "metadata": {},
   "outputs": [
    {
     "name": "stdout",
     "output_type": "stream",
     "text": [
      "[3, 4, 5, 3, 4, 5]\n"
     ]
    }
   ],
   "source": [
    "a = [3, 4, 5]\n",
    "print(a*2)"
   ]
  },
  {
   "cell_type": "markdown",
   "metadata": {},
   "source": [
    "### 8. 패킹(Packing)과 언패킹(Unpacking)\n",
    "FYI) [리스트에만 한정되는 것이 아니다](https://wikidocs.net/22801)"
   ]
  },
  {
   "cell_type": "code",
   "execution_count": 13,
   "metadata": {},
   "outputs": [
    {
     "name": "stdout",
     "output_type": "stream",
     "text": [
      "[1, 2, 3] 1 2 3\n"
     ]
    }
   ],
   "source": [
    "pack = [1, 2, 3]  # 변수 pack에 값 1, 2, 3을 패킹\n",
    "a, b, c = pack   # 값 1, 2, 3을 변수 a, b, c에 언패킹\n",
    "print(pack, a, b, c)"
   ]
  },
  {
   "cell_type": "markdown",
   "metadata": {},
   "source": [
    "### 9. 이차원 리스트 (a.k.a. 행렬)"
   ]
  },
  {
   "cell_type": "code",
   "execution_count": 14,
   "metadata": {},
   "outputs": [
    {
     "name": "stdout",
     "output_type": "stream",
     "text": [
      "[['가', '나'], ['다', '라'], ['마', '바', '사']]\n"
     ]
    }
   ],
   "source": [
    "a = ['가', '나']\n",
    "b = ['다', '라']\n",
    "c = ['마', '바', '사']\n",
    "result = [a, b, c]\n",
    "print(result)"
   ]
  },
  {
   "cell_type": "markdown",
   "metadata": {},
   "source": [
    "## (2) 딕셔너리(dict)\n",
    "### 1. 선언"
   ]
  },
  {
   "cell_type": "code",
   "execution_count": 15,
   "metadata": {},
   "outputs": [
    {
     "name": "stdout",
     "output_type": "stream",
     "text": [
      "<class 'dict'>\n",
      "<class 'dict'>\n",
      "<class 'dict'>\n"
     ]
    }
   ],
   "source": [
    "a = dict()\n",
    "b = {}\n",
    "c = {'a':1, 'b':2}\n",
    "\n",
    "print(type(a))\n",
    "print(type(b))\n",
    "print(type(c))"
   ]
  },
  {
   "cell_type": "markdown",
   "metadata": {},
   "source": [
    "### 2. 요소 추가"
   ]
  },
  {
   "cell_type": "code",
   "execution_count": 16,
   "metadata": {},
   "outputs": [
    {
     "name": "stdout",
     "output_type": "stream",
     "text": [
      "{'key1': 'val1'}\n"
     ]
    }
   ],
   "source": [
    "a = {}\n",
    "a['key1'] = 'val1'\n",
    "print(a)"
   ]
  },
  {
   "cell_type": "markdown",
   "metadata": {},
   "source": [
    "### 3. 요소 삭제 (del, pop())"
   ]
  },
  {
   "cell_type": "code",
   "execution_count": 17,
   "metadata": {},
   "outputs": [
    {
     "name": "stdout",
     "output_type": "stream",
     "text": [
      "{'1': '도', '4': '파'}\n"
     ]
    }
   ],
   "source": [
    "a = {'1': '도', '2': '레', '3': '미', '4': '파'}\n",
    "\n",
    "del(a['2'])\n",
    "a.pop('3')\n",
    "print(a)"
   ]
  },
  {
   "cell_type": "markdown",
   "metadata": {},
   "source": [
    "### 4. 요소 받아오기"
   ]
  },
  {
   "cell_type": "code",
   "execution_count": 18,
   "metadata": {},
   "outputs": [
    {
     "name": "stdout",
     "output_type": "stream",
     "text": [
      "미\n"
     ]
    }
   ],
   "source": [
    "a = {'1': '도', '2': '레', '3': '미', '4': '파'}\n",
    "\n",
    "print(a['3'])"
   ]
  },
  {
   "cell_type": "markdown",
   "metadata": {},
   "source": [
    "### 5. dict 탐색 (len(), in, keys(), items())"
   ]
  },
  {
   "cell_type": "code",
   "execution_count": 19,
   "metadata": {},
   "outputs": [
    {
     "name": "stdout",
     "output_type": "stream",
     "text": [
      "4\n",
      "dict_keys(['1', '2', '3', '4'])\n",
      "['1', '2', '3', '4']\n",
      "dict_values(['도', '레', '미', '파'])\n",
      "['도', '레', '미', '파']\n",
      "dict_items([('1', '도'), ('2', '레'), ('3', '미'), ('4', '파')])\n",
      "[('1', '도'), ('2', '레'), ('3', '미'), ('4', '파')]\n"
     ]
    }
   ],
   "source": [
    "a = {'1': '도', '2': '레', '3': '미', '4': '파'}\n",
    "\n",
    "# dict 속 페어의 개수\n",
    "print(len(a))\n",
    "\n",
    "# Key 와 Value의 목록 확인\n",
    "print(a.keys())  # <class 'dict_keys'>\n",
    "print(list(a.keys()))\n",
    "print(a.values())  # <class 'dict_values'>\n",
    "print(list(a.values()))\n",
    "print(a.items())  # <class 'dict_items'>\n",
    "print(list(a.items()))"
   ]
  },
  {
   "cell_type": "code",
   "execution_count": 20,
   "metadata": {},
   "outputs": [
    {
     "name": "stdout",
     "output_type": "stream",
     "text": [
      "False\n",
      "False\n",
      "True\n"
     ]
    }
   ],
   "source": [
    "# key 찾기\n",
    "print('레' in a)\n",
    "print(('2','레') in a)\n",
    "print('2' in a)"
   ]
  },
  {
   "cell_type": "code",
   "execution_count": 21,
   "metadata": {},
   "outputs": [
    {
     "name": "stdout",
     "output_type": "stream",
     "text": [
      "False\n",
      "True\n"
     ]
    }
   ],
   "source": [
    "# Value 찾기\n",
    "print('레' in a.items())\n",
    "print('레' in list(a.values()))"
   ]
  },
  {
   "cell_type": "markdown",
   "metadata": {},
   "source": [
    "### 6. 정렬 (sorted())\n",
    "\n",
    "#### Key를 기준으로 정렬하기"
   ]
  },
  {
   "cell_type": "code",
   "execution_count": 22,
   "metadata": {},
   "outputs": [
    {
     "name": "stdout",
     "output_type": "stream",
     "text": [
      "[('A', 1), ('B', 2), ('C', 3), ('D', 4)]\n",
      "[('D', 4), ('C', 3), ('B', 2), ('A', 1)]\n"
     ]
    }
   ],
   "source": [
    "a = {'A':1, 'D':4, 'C':3, 'B':2}\n",
    "\n",
    "sorted_a = sorted(a.items())\n",
    "print(sorted_a)\n",
    "\n",
    "rev_sorted_a = sorted(a.items(), reverse=True)\n",
    "print(rev_sorted_a)"
   ]
  },
  {
   "cell_type": "markdown",
   "metadata": {},
   "source": [
    "#### Value를 기준으로 정렬하기"
   ]
  },
  {
   "cell_type": "code",
   "execution_count": 23,
   "metadata": {},
   "outputs": [
    {
     "name": "stdout",
     "output_type": "stream",
     "text": [
      "[('A', 1), ('B', 2), ('C', 3), ('D', 4)]\n",
      "[('D', 4), ('C', 3), ('B', 2), ('A', 1)]\n"
     ]
    }
   ],
   "source": [
    "a = {'A':1, 'D':4, 'C':3, 'B':2}\n",
    "\n",
    "sorted_a = sorted(a.items(), key=lambda item: item[1])  # 키는 item[0], 값은 item[1] 로 indexing\n",
    "rev_sorted_a = sorted(a.items(), key=lambda item: item[1], reverse=True)\n",
    "print(sorted_a)\n",
    "print(rev_sorted_a)"
   ]
  },
  {
   "cell_type": "code",
   "execution_count": 24,
   "metadata": {
    "scrolled": true
   },
   "outputs": [
    {
     "name": "stdout",
     "output_type": "stream",
     "text": [
      "[('A', 1), ('B', 2), ('C', 3), ('D', 4)]\n",
      "[('D', 4), ('C', 3), ('B', 2), ('A', 1)]\n"
     ]
    }
   ],
   "source": [
    "import operator\n",
    "\n",
    "a = {'A':1, 'D':4, 'C':3, 'B':2}\n",
    "\n",
    "sorted_a = sorted(a.items(), key=operator.itemgetter(1))\n",
    "rev_sorted_a = sorted(a.items(), key=operator.itemgetter(1), reverse=True)\n",
    "print(sorted_a)\n",
    "print(rev_sorted_a)"
   ]
  },
  {
   "cell_type": "markdown",
   "metadata": {},
   "source": [
    "### 7. dict의 일반적인 for문 사용"
   ]
  },
  {
   "cell_type": "code",
   "execution_count": 25,
   "metadata": {
    "scrolled": true
   },
   "outputs": [
    {
     "name": "stdout",
     "output_type": "stream",
     "text": [
      "1 : 도\n",
      "2 : 레\n",
      "3 : 미\n",
      "4 : 파\n"
     ]
    }
   ],
   "source": [
    "a = {'1': '도', '2': '레', '3': '미', '4': '파'}\n",
    "\n",
    "for key, val in a.items():\n",
    "    print(key, ':', val)"
   ]
  },
  {
   "cell_type": "markdown",
   "metadata": {},
   "source": [
    "### 8. dict의 update"
   ]
  },
  {
   "cell_type": "code",
   "execution_count": 26,
   "metadata": {},
   "outputs": [
    {
     "name": "stdout",
     "output_type": "stream",
     "text": [
      "{'1': '도', '2': '레레레', '3': '미', '4': '파'}\n"
     ]
    }
   ],
   "source": [
    "a = {'1': '도', '2': '레'}\n",
    "b = {'2': '레레레', '3': '미', '4': '파'}\n",
    "\n",
    "a.update(b)\n",
    "print(a)"
   ]
  },
  {
   "cell_type": "markdown",
   "metadata": {},
   "source": [
    "### 9. Collections 모듈\n",
    "\n",
    "> 내장 자료구조 모듈로, list/tuple/dict 등을 확장하여 제작되었다."
   ]
  },
  {
   "cell_type": "code",
   "execution_count": 27,
   "metadata": {},
   "outputs": [],
   "source": [
    "from collections import defaultdict\n",
    "from collections import Counter\n",
    "from collections import OrderedDict\n",
    "\n",
    "# 추가로 설명할 자료형\n",
    "from collections import deque\n",
    "from collections import namedtuple"
   ]
  },
  {
   "cell_type": "markdown",
   "metadata": {},
   "source": [
    "#### defaultdict\n",
    "\n",
    "디폴트 값을 기준으로, 해당 키에 대한 딕셔너리 아이템을 생성해 줌"
   ]
  },
  {
   "cell_type": "code",
   "execution_count": 28,
   "metadata": {},
   "outputs": [
    {
     "name": "stdout",
     "output_type": "stream",
     "text": [
      "0\n",
      "night\n",
      "{'test': 'night', 'test2': 'night_2'}\n"
     ]
    }
   ],
   "source": [
    "## 초기값을 특정 값으로 지정 가능함\n",
    "d1 = defaultdict(lambda: 0)\n",
    "print(d1['test'])\n",
    "\n",
    "d2 = defaultdict(lambda: 'night')\n",
    "print(d2['test'])\n",
    "d2['test2'] += '_2'\n",
    "print(dict(d2))"
   ]
  },
  {
   "cell_type": "code",
   "execution_count": 29,
   "metadata": {},
   "outputs": [
    {
     "name": "stdout",
     "output_type": "stream",
     "text": [
      "0.0\n"
     ]
    }
   ],
   "source": [
    "## 자료형을 넣으면, 초기값이 자동 설정됨\n",
    "d1 = defaultdict(float)  # 0.0\n",
    "print(d1['test'])"
   ]
  },
  {
   "cell_type": "code",
   "execution_count": 30,
   "metadata": {},
   "outputs": [
    {
     "name": "stdout",
     "output_type": "stream",
     "text": [
      "0\n",
      "{'test': 0, 'test2': 2}\n"
     ]
    }
   ],
   "source": [
    "d2 = defaultdict(int)  # 0\n",
    "print(d2['test'])\n",
    "d2['test2'] += 2\n",
    "print(dict(d2))"
   ]
  },
  {
   "cell_type": "code",
   "execution_count": 31,
   "metadata": {},
   "outputs": [
    {
     "name": "stdout",
     "output_type": "stream",
     "text": [
      "\n",
      "{'test': '', 'test2': '_2'}\n"
     ]
    }
   ],
   "source": [
    "d3 = defaultdict(str)  # ' '\n",
    "print(d3['test'])\n",
    "d3['test2'] += '_2'\n",
    "print(dict(d3))"
   ]
  },
  {
   "cell_type": "code",
   "execution_count": 32,
   "metadata": {},
   "outputs": [
    {
     "name": "stdout",
     "output_type": "stream",
     "text": [
      "b''\n",
      "{'test': b'', 'test2': b'bytes'}\n"
     ]
    }
   ],
   "source": [
    "d4 = defaultdict(bytes)  # b' '\n",
    "print(d4['test'])\n",
    "d4['test2'] += b'bytes'\n",
    "print(dict(d4))"
   ]
  },
  {
   "cell_type": "code",
   "execution_count": 33,
   "metadata": {},
   "outputs": [
    {
     "name": "stdout",
     "output_type": "stream",
     "text": [
      "[]\n",
      "{'test': [], 'test2': ['is', 'this', 'possible']}\n"
     ]
    }
   ],
   "source": [
    "d5 = defaultdict(list)  # [ ]\n",
    "print(d5['test'])\n",
    "d5['test2'] += ['is', 'this', 'possible']\n",
    "print(dict(d5))"
   ]
  },
  {
   "cell_type": "markdown",
   "metadata": {},
   "source": [
    "#### Counter\n",
    "\n",
    "시퀀스 자료형(=list, str)의 데이터 값의 개수를 딕셔너리 형태로 반환하는 자료구조"
   ]
  },
  {
   "cell_type": "code",
   "execution_count": 34,
   "metadata": {},
   "outputs": [
    {
     "name": "stdout",
     "output_type": "stream",
     "text": [
      "Counter({'4': 4, '3': 3, '2': 2, '1': 1})\n"
     ]
    }
   ],
   "source": [
    "a = ['1', '2', '2', '3', '3', '3', '4', '4', '4', '4']\n",
    "\n",
    "b = Counter(a)\n",
    "print(b)"
   ]
  },
  {
   "cell_type": "code",
   "execution_count": 35,
   "metadata": {},
   "outputs": [
    {
     "name": "stdout",
     "output_type": "stream",
     "text": [
      "Counter({'e': 2, 's': 1, 'l': 1, 'p': 1, 'y': 1})\n"
     ]
    }
   ],
   "source": [
    "text = 'sleepy'\n",
    "result = Counter(text)\n",
    "print(result)"
   ]
  },
  {
   "cell_type": "code",
   "execution_count": 36,
   "metadata": {},
   "outputs": [
    {
     "name": "stdout",
     "output_type": "stream",
     "text": [
      "Counter({' ': 17, '정': 3, '말': 3, '지': 3, '나': 2, '너': 2, '무': 2, '고': 2, '여': 2, '행': 2, '가': 2, '만': 2, '.': 2, '하': 2, '는': 1, '연': 1, '차': 1, '를': 1, '내': 1, '을': 1, '거': 1, '잠': 1, '자': 1, '싶': 1, '다': 1, '은': 1, '당': 1, '분': 1, '간': 1, '못': 1, '겠': 1})\n"
     ]
    }
   ],
   "source": [
    "paragraph = \"\"\"나는 정말 정말 정말 너무 너무 연차를 내고 여행을 가거나 잠만 자고 싶다. 하지만 여행은 당분간 가지 못하겠지.\"\"\"\n",
    "\n",
    "result_a = Counter(paragraph)\n",
    "print(result_a)  # <class 'collections.Counter'>"
   ]
  },
  {
   "cell_type": "code",
   "execution_count": 37,
   "metadata": {
    "scrolled": false
   },
   "outputs": [
    {
     "name": "stdout",
     "output_type": "stream",
     "text": [
      "Counter({'정말': 3, '너무': 2, '나는': 1, '연차를': 1, '내고': 1, '여행을': 1, '가거나': 1, '잠만': 1, '자고': 1, '싶다.': 1, '하지만': 1, '여행은': 1, '당분간': 1, '가지': 1, '못하겠지.': 1})\n",
      "[('정말', 3)]\n"
     ]
    }
   ],
   "source": [
    "result_b = Counter(paragraph.split())\n",
    "print(result_b)\n",
    "print(result_b.most_common(1))  # <class 'list'>"
   ]
  },
  {
   "cell_type": "markdown",
   "metadata": {},
   "source": [
    "- Counter를 활용하여 반복된 요소가 들어 있는 list를 생성할 수 있다."
   ]
  },
  {
   "cell_type": "code",
   "execution_count": 38,
   "metadata": {
    "scrolled": true
   },
   "outputs": [
    {
     "name": "stdout",
     "output_type": "stream",
     "text": [
      "['cats', 'cats', 'cats', 'cats', 'dogs', 'dogs', 'dogs', 'dogs', 'dogs', 'dogs', 'dogs', 'dogs']\n"
     ]
    }
   ],
   "source": [
    "a = Counter(cats=4, dogs=8)\n",
    "result = list(a.elements())\n",
    "print(result)"
   ]
  },
  {
   "cell_type": "markdown",
   "metadata": {},
   "source": [
    "- Counter는 덧셈/뺄셈 및 AND/OR 연산을 지원한다."
   ]
  },
  {
   "cell_type": "code",
   "execution_count": 39,
   "metadata": {},
   "outputs": [
    {
     "name": "stdout",
     "output_type": "stream",
     "text": [
      "Counter({'a': 5, 'b': 4, 'c': 3, 'd': 2})\n",
      "Counter({'a': 3})\n",
      "Counter({'b': 2, 'a': 1})\n",
      "Counter({'a': 4, 'd': 4, 'c': 3, 'b': 2})\n"
     ]
    }
   ],
   "source": [
    "counter_a = Counter(a=4, b=2, c=0, d=-2)\n",
    "counter_b = Counter(a=1, b=2, c=3, d=4)\n",
    "\n",
    "print(counter_a + counter_b)\n",
    "print(counter_a - counter_b)\n",
    "print(counter_a & counter_b)  # 교집합 출력\n",
    "print(counter_a | counter_b)  # 합집합 출력(둘 중 더 큰 값으로)"
   ]
  },
  {
   "cell_type": "markdown",
   "metadata": {},
   "source": [
    "#### OrderedDict\n",
    "순서를 가진 딕셔너리 객체 (key의 순서를 보장)\n",
    "> Python 3.7+ 에서는 기본 딕셔너리도 입력 순서가 유지됨"
   ]
  },
  {
   "cell_type": "code",
   "execution_count": 40,
   "metadata": {},
   "outputs": [
    {
     "name": "stdout",
     "output_type": "stream",
     "text": [
      "a 100\n",
      "c 200\n",
      "b 400\n"
     ]
    }
   ],
   "source": [
    "d = OrderedDict()\n",
    "d['a'] = 100\n",
    "d['c'] = 200\n",
    "d['b'] = 400\n",
    "for k, v in d.items():\n",
    "    print(k, v)"
   ]
  },
  {
   "cell_type": "markdown",
   "metadata": {},
   "source": [
    "#### deque\n",
    "스택과 큐를 모두 지원함\n",
    "\n",
    "* 스택처럼 사용하기"
   ]
  },
  {
   "cell_type": "code",
   "execution_count": 41,
   "metadata": {},
   "outputs": [
    {
     "name": "stdout",
     "output_type": "stream",
     "text": [
      "deque([0, 1, 2, 3, 4])\n"
     ]
    }
   ],
   "source": [
    "deque_stack = deque()\n",
    "for i in range(5):\n",
    "    deque_stack.append(i)\n",
    "    \n",
    "print(deque_stack)"
   ]
  },
  {
   "cell_type": "code",
   "execution_count": 43,
   "metadata": {},
   "outputs": [
    {
     "name": "stdout",
     "output_type": "stream",
     "text": [
      "4\n",
      "3\n",
      "2\n",
      "1\n"
     ]
    }
   ],
   "source": [
    "print(deque_stack.pop())\n",
    "print(deque_stack.pop())\n",
    "print(deque_stack.pop())\n",
    "print(deque_stack.pop())"
   ]
  },
  {
   "cell_type": "markdown",
   "metadata": {},
   "source": [
    "* 큐처럼 사용하기(.appendleft())"
   ]
  },
  {
   "cell_type": "code",
   "execution_count": 44,
   "metadata": {},
   "outputs": [
    {
     "name": "stdout",
     "output_type": "stream",
     "text": [
      "deque([4, 3, 2, 1, 0])\n"
     ]
    }
   ],
   "source": [
    "# deque에서는 pop(0)은 사용할 수 없음\n",
    "deque_q = deque()\n",
    "for i in range(5):\n",
    "    deque_q.appendleft(i)\n",
    "    \n",
    "print(deque_q)"
   ]
  },
  {
   "cell_type": "code",
   "execution_count": 45,
   "metadata": {},
   "outputs": [
    {
     "name": "stdout",
     "output_type": "stream",
     "text": [
      "0\n",
      "1\n",
      "2\n",
      "3\n"
     ]
    }
   ],
   "source": [
    "# 결국, 먼저 들어간 값부터 출력된다\n",
    "print(deque_q.pop())\n",
    "print(deque_q.pop())\n",
    "print(deque_q.pop())\n",
    "print(deque_q.pop())"
   ]
  },
  {
   "cell_type": "markdown",
   "metadata": {},
   "source": [
    "* 연결 리스트처럼 사용하기"
   ]
  },
  {
   "cell_type": "code",
   "execution_count": 46,
   "metadata": {},
   "outputs": [
    {
     "name": "stdout",
     "output_type": "stream",
     "text": [
      "deque([4, 3, 2, 1, 0])\n",
      "deque([1, 0, 4, 3, 2])\n",
      "deque([2, 1, 0, 4, 3])\n",
      "deque([0, 4, 3, 2, 1])\n"
     ]
    }
   ],
   "source": [
    "deque_list_connected = deque()\n",
    "for i in range(5):\n",
    "    deque_list_connected.appendleft(i)\n",
    "    \n",
    "print(deque_list_connected)\n",
    "deque_list_connected.rotate(2)  # 우측으로 이동하는 것처럼 본다.\n",
    "print(deque_list_connected)\n",
    "deque_list_connected.rotate(1)\n",
    "print(deque_list_connected)\n",
    "deque_list_connected.rotate(3)\n",
    "print(deque_list_connected)"
   ]
  },
  {
   "cell_type": "markdown",
   "metadata": {},
   "source": [
    "#### namedtuple\n",
    "\n",
    "튜플의 형태로 데이터 구조체를 저장 (C 언어의 struct와 동일)"
   ]
  },
  {
   "cell_type": "code",
   "execution_count": 47,
   "metadata": {},
   "outputs": [
    {
     "name": "stdout",
     "output_type": "stream",
     "text": [
      "Point(x=11, y=22)\n",
      "11\n",
      "22\n"
     ]
    }
   ],
   "source": [
    "Point = namedtuple('Point', ['x', 'y'])\n",
    "p = Point(11, 22)\n",
    "\n",
    "print(p)\n",
    "print(p.x)\n",
    "print(p.y)"
   ]
  },
  {
   "cell_type": "code",
   "execution_count": 48,
   "metadata": {},
   "outputs": [
    {
     "name": "stdout",
     "output_type": "stream",
     "text": [
      "[student(이름='공유', 나이=40, 학번='1212121'), student(이름='이제훈', 나이=30, 학번='2323232')]\n",
      "공유\n",
      "이제훈\n"
     ]
    }
   ],
   "source": [
    "Student = namedtuple('student', ['이름', '나이', '학번'])\n",
    "s1 = Student('공유', 40, '1212121')\n",
    "s2 = Student('이제훈', 30, '2323232')\n",
    "\n",
    "student_list = [s1, s2]\n",
    "print(student_list)\n",
    "print(s1[0])\n",
    "print(s2[0])"
   ]
  }
 ],
 "metadata": {
  "kernelspec": {
   "display_name": "Python 3",
   "language": "python",
   "name": "python3"
  },
  "language_info": {
   "codemirror_mode": {
    "name": "ipython",
    "version": 3
   },
   "file_extension": ".py",
   "mimetype": "text/x-python",
   "name": "python",
   "nbconvert_exporter": "python",
   "pygments_lexer": "ipython3",
   "version": "3.7.0"
  }
 },
 "nbformat": 4,
 "nbformat_minor": 2
}
